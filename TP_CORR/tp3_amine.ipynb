{
 "cells": [
  {
   "cell_type": "code",
   "execution_count": 1,
   "id": "03574be3",
   "metadata": {},
   "outputs": [],
   "source": [
    "import numpy as np\n",
    "import matplotlib.pyplot as plt\n",
    "from sklearn.datasets import make_regression\n",
    "from sklearn.model_selection import train_test_split"
   ]
  },
  {
   "cell_type": "code",
   "execution_count": 2,
   "id": "398d7aa9",
   "metadata": {},
   "outputs": [],
   "source": [
    "x,y=make_regression(n_samples=100,n_features=2,noise=10)\n"
   ]
  },
  {
   "cell_type": "code",
   "execution_count": 3,
   "id": "4035d835",
   "metadata": {},
   "outputs": [
    {
     "data": {
      "text/plain": [
       "(100, 2)"
      ]
     },
     "execution_count": 3,
     "metadata": {},
     "output_type": "execute_result"
    }
   ],
   "source": [
    "x.shape"
   ]
  },
  {
   "cell_type": "code",
   "execution_count": 4,
   "id": "9db1a368",
   "metadata": {},
   "outputs": [
    {
     "data": {
      "text/plain": [
       "(100,)"
      ]
     },
     "execution_count": 4,
     "metadata": {},
     "output_type": "execute_result"
    }
   ],
   "source": [
    "y.shape"
   ]
  },
  {
   "cell_type": "code",
   "execution_count": 5,
   "id": "f8b12147",
   "metadata": {},
   "outputs": [],
   "source": [
    "y=y.reshape(100,1)"
   ]
  },
  {
   "cell_type": "code",
   "execution_count": 6,
   "id": "0bb2afe7",
   "metadata": {},
   "outputs": [
    {
     "data": {
      "text/plain": [
       "(100, 1)"
      ]
     },
     "execution_count": 6,
     "metadata": {},
     "output_type": "execute_result"
    }
   ],
   "source": [
    "y.shape"
   ]
  },
  {
   "cell_type": "code",
   "execution_count": 7,
   "id": "4e270c74",
   "metadata": {},
   "outputs": [
    {
     "data": {
      "text/plain": [
       "<matplotlib.collections.PathCollection at 0x23c47120850>"
      ]
     },
     "execution_count": 7,
     "metadata": {},
     "output_type": "execute_result"
    },
    {
     "data": {
      "image/png": "[encoded data removed]",
      "text/plain": [
       "<Figure size 432x288 with 1 Axes>"
      ]
     },
     "metadata": {
      "needs_background": "light"
     },
     "output_type": "display_data"
    }
   ],
   "source": [
    "#afficher les résultats. X1 en abscisse et y en ordonnée\n",
    "x1=x[:,0]\n",
    "y1=y\n",
    "plt.scatter(x1,y)"
   ]
  },
  {
   "cell_type": "code",
   "execution_count": 8,
   "id": "82b1e67d",
   "metadata": {},
   "outputs": [
    {
     "data": {
      "text/plain": [
       "<matplotlib.collections.PathCollection at 0x23c47224280>"
      ]
     },
     "execution_count": 8,
     "metadata": {},
     "output_type": "execute_result"
    },
    {
     "data": {
      "image/png": "[encoded data removed]",
      "text/plain": [
       "<Figure size 432x288 with 1 Axes>"
      ]
     },
     "metadata": {
      "needs_background": "light"
     },
     "output_type": "display_data"
    }
   ],
   "source": [
    "#afficher les résultats. X2 en abscisse et y en ordonnée\n",
    "x2=x[:,1]\n",
    "y2=y\n",
    "plt.scatter(x2,y)"
   ]
  },
  {
   "cell_type": "code",
   "execution_count": 10,
   "id": "32e16535",
   "metadata": {},
   "outputs": [
    {
     "data": {
      "text/plain": [
       "LinearRegression()"
      ]
     },
     "execution_count": 10,
     "metadata": {},
     "output_type": "execute_result"
    }
   ],
   "source": [
    "#utiliser la bibliothèque Scikit-Learn pour générer un modèle de régression linéaire\n",
    "from sklearn.linear_model import LinearRegression\n",
    "model_reg=LinearRegression()\n",
    "#entraîner le modèle crée (utiliser la fonction fit())\n",
    "model_reg.fit(x,y)\n"
   ]
  },
  {
   "cell_type": "code",
   "execution_count": 11,
   "id": "6be5e23a",
   "metadata": {},
   "outputs": [
    {
     "data": {
      "text/plain": [
       "array([[16.0668715 , 81.59626337]])"
      ]
     },
     "execution_count": 11,
     "metadata": {},
     "output_type": "execute_result"
    }
   ],
   "source": [
    "#afficher les parametres du modele (model.coef_ et model.intercept_)\n",
    "model_reg.coef_"
   ]
  },
  {
   "cell_type": "code",
   "execution_count": 12,
   "id": "fa4326c2",
   "metadata": {},
   "outputs": [
    {
     "data": {
      "text/plain": [
       "array([0.7732985])"
      ]
     },
     "execution_count": 12,
     "metadata": {},
     "output_type": "execute_result"
    }
   ],
   "source": [
    "model_reg.intercept_"
   ]
  },
  {
   "cell_type": "code",
   "execution_count": 13,
   "id": "aa96623a",
   "metadata": {},
   "outputs": [],
   "source": [
    "# c = 0 alors f=f1+f2\n",
    "f1=x1*model_reg.coef_[0,0]\n",
    "f2=x2*model_reg.coef_[0,1]"
   ]
  },
  {
   "cell_type": "code",
   "execution_count": 14,
   "id": "ceaa1f1f",
   "metadata": {},
   "outputs": [
    {
     "data": {
      "text/plain": [
       "[<matplotlib.lines.Line2D at 0x23c473f0a00>]"
      ]
     },
     "execution_count": 14,
     "metadata": {},
     "output_type": "execute_result"
    },
    {
     "data": {
      "image/png": "[encoded data removed]",
      "text/plain": [
       "<Figure size 432x288 with 1 Axes>"
      ]
     },
     "metadata": {
      "needs_background": "light"
     },
     "output_type": "display_data"
    }
   ],
   "source": [
    "#afficher le model entrainée (x1,y1)\n",
    "plt.scatter(x1, y)\n",
    "plt.plot(x1,f1, c='red')"
   ]
  },
  {
   "cell_type": "code",
   "execution_count": 15,
   "id": "909d4bab",
   "metadata": {},
   "outputs": [
    {
     "data": {
      "text/plain": [
       "[<matplotlib.lines.Line2D at 0x23c47454a90>]"
      ]
     },
     "execution_count": 15,
     "metadata": {},
     "output_type": "execute_result"
    },
    {
     "data": {
      "image/png": "[encoded data removed]",
      "text/plain": [
       "<Figure size 432x288 with 1 Axes>"
      ]
     },
     "metadata": {
      "needs_background": "light"
     },
     "output_type": "display_data"
    }
   ],
   "source": [
    "#afficher le model entrainée (x2,y1)\n",
    "plt.scatter(x2, y)\n",
    "plt.plot(x2,f2, c='red')"
   ]
  },
  {
   "cell_type": "code",
   "execution_count": 22,
   "id": "50626839",
   "metadata": {},
   "outputs": [],
   "source": [
    "# utiliser la bibliothèque Scikit-Learn pour générer un modèle de régression Ridge avec lambda = alpha  \n",
    "from sklearn.linear_model import Ridge\n",
    "model_ridge=Ridge(alpha=100)\n"
   ]
  },
  {
   "cell_type": "code",
   "execution_count": 23,
   "id": "2fb25b6f",
   "metadata": {},
   "outputs": [
    {
     "data": {
      "text/plain": [
       "array([[ 7.88150681, 40.2415751 ]])"
      ]
     },
     "execution_count": 23,
     "metadata": {},
     "output_type": "execute_result"
    }
   ],
   "source": [
    "#entraîner le modèle crée (utiliser la fonction fit())\n",
    "model_ridge.fit(x,y)\n",
    "#afficher les parametres du modele (model.coef_ et model.intercept_)\n",
    "model_ridge.coef_\n",
    "#refaire les mêmes calculs avec Alpha=10,20,60\n"
   ]
  },
  {
   "cell_type": "code",
   "execution_count": 33,
   "id": "5febcd91",
   "metadata": {},
   "outputs": [],
   "source": [
    "# utiliser la bibliothèque Scikit-Learn pour générer un modèle de régression Lasso avec lambda = alpha  \n",
    "from sklearn.linear_model import Lasso\n",
    "model_lasoo=Lasso(alpha=60)"
   ]
  },
  {
   "cell_type": "code",
   "execution_count": 34,
   "id": "c200b3c5",
   "metadata": {},
   "outputs": [
    {
     "data": {
      "text/plain": [
       "array([ 0.        , 19.92739677])"
      ]
     },
     "execution_count": 34,
     "metadata": {},
     "output_type": "execute_result"
    }
   ],
   "source": [
    "#entraîner le modèle crée (utiliser la fonction fit())\n",
    "model_lasoo.fit(x,y)\n",
    "#afficher les parametres du modele (model.coef_ et model.intercept_)\n",
    "model_lasoo.coef_\n",
    "#refaire les mêmes calculs avec Alpha=10,20,60\n"
   ]
  },
  {
   "cell_type": "code",
   "execution_count": null,
   "id": "541d3b8b",
   "metadata": {},
   "outputs": [],
   "source": []
  }
 ],
 "metadata": {
  "kernelspec": {
   "display_name": "Python 3 (ipykernel)",
   "language": "python",
   "name": "python3"
  },
  "language_info": {
   "codemirror_mode": {
    "name": "ipython",
    "version": 3
   },
   "file_extension": ".py",
   "mimetype": "text/x-python",
   "name": "python",
   "nbconvert_exporter": "python",
   "pygments_lexer": "ipython3",
   "version": "3.9.12"
  }
 },
 "nbformat": 4,
 "nbformat_minor": 5
}
