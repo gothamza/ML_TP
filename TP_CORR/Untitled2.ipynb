{
 "cells": [
  {
   "cell_type": "code",
   "execution_count": 4,
   "id": "b48c28f0",
   "metadata": {},
   "outputs": [
    {
     "ename": "SyntaxError",
     "evalue": "(unicode error) 'unicodeescape' codec can't decode bytes in position 2-3: truncated \\UXXXXXXXX escape (1580391687.py, line 39)",
     "output_type": "error",
     "traceback": [
      "\u001b[1;36m  Input \u001b[1;32mIn [4]\u001b[1;36m\u001b[0m\n\u001b[1;33m    front_image=PhotoImage(file=\"C:\\Users\\HP\\Desktop\\MASTER I.A\\PYTHON\\PROJET\\card_front.png\")\u001b[0m\n\u001b[1;37m                                                                                             ^\u001b[0m\n\u001b[1;31mSyntaxError\u001b[0m\u001b[1;31m:\u001b[0m (unicode error) 'unicodeescape' codec can't decode bytes in position 2-3: truncated \\UXXXXXXXX escape\n"
     ]
    }
   ],
   "source": [
    "from tkinter import Button,Canvas,PhotoImage,Tk\n",
    "import pandas\n",
    "import random\n",
    "window=Tk()\n",
    "BACKGROUND_COLOR =\"#B1DDC6\"\n",
    "#-----------------------------------------\n",
    "def pick_card():\n",
    "    global new_cart,timer\n",
    "    window.after_cancel(timer)\n",
    "    new_cart=random.choice(learn_words)\n",
    "    french=new_cart[\"French\"]\n",
    "    canvas.itemconfig(frint_side,image=front_image)\n",
    "    canvas.itemconfig(title,text=\"franch\")\n",
    "    canvas.itemconfig(word,text=french)\n",
    "    window.config(bg=BACKGROUND_COLOR)\n",
    "    canvas.config(bg=BACKGROUND_COLOR,highlightthickness=0)\n",
    "    timer=window.after(3000,flip_cart)\n",
    "\n",
    "def flip_card():\n",
    "    english=new_cart[\"English\"]\n",
    "    canvas.itemconfig(front_side,image=back_image)\n",
    "    canvas.config(bg=\"white\",hightlightthickness=0)\n",
    "    canvas.itemconfig(title,text=\"English\")\n",
    "    canvas.itemconfig(word,text=english)\n",
    "    window.config(bg=\"white\")\n",
    "\n",
    "def is_know():\n",
    "    learn_words.remove(new_card)\n",
    "    data=pandas.DataFrame(learn_words)\n",
    "    data.to_csv(\"data/new_learn_list.csv\")\n",
    "    pick_card()\n",
    "\n",
    "\n",
    "#-------------------------------------------------\n",
    "window.title(\"flash card\")\n",
    "window.config(padx=50,pady=50,bg=BACKGROUND_COLOR)\n",
    "canvas=Canvas(width=800,height=526)\n",
    "\n",
    "front_image=PhotoImage(file=\"C:\\Users\\HP\\Desktop\\MASTER I.A\\PYTHON\\PROJET\\card_front.png\")\n",
    "back_image=PhotoImage(file=\"C:\\Users\\HP\\Desktop\\MASTER I.A\\PYTHON\\PROJET\\card_back.png\")\n",
    "cross_image=PhotoImage(file=\"C:\\Users\\HP\\Desktop\\MASTER I.A\\PYTHON\\PROJET\\wrong.png\")\n",
    "correct_image=PhotoImage(file=\"C:\\Users\\HP\\Desktop\\MASTER I.A\\PYTHON\\PROJET\\right.png\")\n",
    "front_side=canvas.create_image(400,263,image=front_image)\n",
    "title=canvas.create_text(400,200,text=\"\",font=(\"arial\",20))\n",
    "word=canvas.create_text(400,200,text=\"\",font=(\"arial\",20,\"bold\"))\n",
    "canvas.config(bg=BACKGROUND_COLOR,hightlightthickness=0)\n",
    "canvas.grid(row=0,column=0,columnspan=2)\n",
    "\n",
    "correct_Button=Button(image=correct_image,hightlightthickness=0,command=is_know)\n",
    "correct_Button.grid(row=1,column=1)\n",
    "cross_button=Button(image=coross_image,hightlightthickness=0,command=pick_card)\n",
    "cross_Button.grid(row=1,column=0)\n",
    "\n",
    "timer=window.after(3000,flip_card)\n",
    "try:\n",
    "    data=pandas.read_csv(\"data/new_learn_list.csv\")\n",
    "except :\n",
    "    data=pandas.read_csv(\"data/french_words.csv\")\n",
    "learn_words=data.to_dict(orient=\"records\")\n",
    "\n",
    "pick_card()\n",
    "\n",
    "window.mainloop()\n"
   ]
  },
  {
   "cell_type": "code",
   "execution_count": null,
   "id": "84770be0",
   "metadata": {},
   "outputs": [],
   "source": []
  },
  {
   "cell_type": "code",
   "execution_count": null,
   "id": "a7577707",
   "metadata": {},
   "outputs": [],
   "source": []
  }
 ],
 "metadata": {
  "kernelspec": {
   "display_name": "Python 3 (ipykernel)",
   "language": "python",
   "name": "python3"
  },
  "language_info": {
   "codemirror_mode": {
    "name": "ipython",
    "version": 3
   },
   "file_extension": ".py",
   "mimetype": "text/x-python",
   "name": "python",
   "nbconvert_exporter": "python",
   "pygments_lexer": "ipython3",
   "version": "3.9.12"
  }
 },
 "nbformat": 4,
 "nbformat_minor": 5
}
