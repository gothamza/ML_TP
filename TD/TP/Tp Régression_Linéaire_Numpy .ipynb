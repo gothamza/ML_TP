{
 "cells": [
  {
   "cell_type": "markdown",
   "metadata": {},
   "source": [
    "# TP1 : Régression linéaire simple "
   ]
  },
  {
   "cell_type": "code",
   "execution_count": 1,
   "metadata": {
    "id": "UjZ6JH4jYUMm"
   },
   "outputs": [],
   "source": [
    "import numpy as np\n",
    "from sklearn.datasets import make_regression\n",
    "import matplotlib.pyplot as plt"
   ]
  },
  {
   "cell_type": "markdown",
   "metadata": {
    "id": "WBanIQlBYUMn"
   },
   "source": [
    "# 1. Dataset\n",
    "Génération de données aléatoires avec une tendance linéaire avec make_regression: on a un dataset $(x, y)$ qui contient 100 exemples, et une seule variable $x$. Note: chaque fois que la cellule est executée, des données différentes sont générer. Utiliser np.random.seed(0) pour reproduire le meme Dataset a chaque fois."
   ]
  },
  {
   "cell_type": "code",
   "execution_count": 2,
   "metadata": {
    "id": "1qVTppmZYUMo",
    "outputId": "c45e1cf5-4e56-4278-fba0-423de080e1c2"
   },
   "outputs": [
    {
     "data": {
      "text/plain": [
       "<matplotlib.collections.PathCollection at 0x266838c1540>"
      ]
     },
     "execution_count": 2,
     "metadata": {},
     "output_type": "execute_result"
    },
    {
     "data": {
      "image/png": "[encoded data removed]",
      "text/plain": [
       "<Figure size 432x288 with 1 Axes>"
      ]
     },
     "metadata": {
      "needs_background": "light"
     },
     "output_type": "display_data"
    }
   ],
   "source": [
    "np.random.seed(0) # pour toujours reproduire le meme dataset\n",
    "x, y = make_regression(n_samples=100, n_features=1, noise=10)\n",
    "plt.scatter(x, y) # afficher les résultats. X en abscisse et y en ordonnée"
   ]
  },
  {
   "cell_type": "markdown",
   "metadata": {
    "id": "Bi26rzzIYUMq"
   },
   "source": [
    "Important: vérifier les dimensions de x et y. On remarque que y n'a pas les dimensions (100, 1). On corrige le probleme avec np.reshape"
   ]
  },
  {
   "cell_type": "code",
   "execution_count": 7,
   "metadata": {
    "id": "AizRWSoGYUMq",
    "outputId": "7c107b98-6385-405e-ae40-46e12459e1e9"
   },
   "outputs": [
    {
     "name": "stdout",
     "output_type": "stream",
     "text": [
      "(100, 1)\n",
      "(100,)\n",
      "(100, 1)\n"
     ]
    }
   ],
   "source": [
    "print(x.shape)\n",
    "print(y.shape)\n",
    "\n",
    "# redimensionner y\n",
    "y = y.reshape(y.shape[0], 1)\n",
    "\n",
    "print(y.shape)"
   ]
  },
  {
   "cell_type": "markdown",
   "metadata": {
    "id": "JuDY8QibYUMr"
   },
   "source": [
    "Création de la matrice X qui contient la colonne de Biais. Pour ca, on colle l'un contre l'autre le vecteur x et un vecteur 1 (avec np.ones) de dimension égale a celle de x"
   ]
  },
  {
   "cell_type": "code",
   "execution_count": 8,
   "metadata": {
    "id": "ZI_N6W-9YUMs",
    "outputId": "8357c434-0c7f-46ba-bfa0-85a579de63f7"
   },
   "outputs": [
    {
     "name": "stdout",
     "output_type": "stream",
     "text": [
      "(100, 2)\n"
     ]
    }
   ],
   "source": [
    "X = np.hstack((x, np.ones(x.shape)))\n",
    "print(X.shape)"
   ]
  },
  {
   "cell_type": "code",
   "execution_count": 9,
   "metadata": {},
   "outputs": [
    {
     "data": {
      "text/plain": [
       "array([[-0.35955316,  1.        ],\n",
       "       [ 0.97663904,  1.        ],\n",
       "       [ 0.40234164,  1.        ],\n",
       "       [-0.81314628,  1.        ],\n",
       "       [-0.88778575,  1.        ],\n",
       "       [ 0.44386323,  1.        ],\n",
       "       [-0.97727788,  1.        ],\n",
       "       [ 0.42833187,  1.        ],\n",
       "       [ 0.20827498,  1.        ],\n",
       "       [-0.31155253,  1.        ],\n",
       "       [-0.51080514,  1.        ],\n",
       "       [ 0.12691209,  1.        ],\n",
       "       [-1.53624369,  1.        ],\n",
       "       [-0.40178094,  1.        ],\n",
       "       [ 0.6536186 ,  1.        ],\n",
       "       [ 1.17877957,  1.        ],\n",
       "       [-0.17992484,  1.        ],\n",
       "       [ 1.78587049,  1.        ],\n",
       "       [ 1.45427351,  1.        ],\n",
       "       [-0.68481009,  1.        ],\n",
       "       [ 0.97873798,  1.        ],\n",
       "       [ 1.89588918,  1.        ],\n",
       "       [-0.4380743 ,  1.        ],\n",
       "       [ 0.3130677 ,  1.        ],\n",
       "       [ 0.76103773,  1.        ],\n",
       "       [ 0.77749036,  1.        ],\n",
       "       [ 1.9507754 ,  1.        ],\n",
       "       [ 0.33367433,  1.        ],\n",
       "       [-0.34791215,  1.        ],\n",
       "       [ 1.53277921,  1.        ],\n",
       "       [-0.89546656,  1.        ],\n",
       "       [-0.57884966,  1.        ],\n",
       "       [-1.04855297,  1.        ],\n",
       "       [ 0.37816252,  1.        ],\n",
       "       [ 0.01050002,  1.        ],\n",
       "       [ 0.46278226,  1.        ],\n",
       "       [ 0.14404357,  1.        ],\n",
       "       [-0.40317695,  1.        ],\n",
       "       [ 0.0519454 ,  1.        ],\n",
       "       [-1.25279536,  1.        ],\n",
       "       [ 1.05445173,  1.        ],\n",
       "       [ 0.40015721,  1.        ],\n",
       "       [-1.70627019,  1.        ],\n",
       "       [ 2.2408932 ,  1.        ],\n",
       "       [ 0.17742614,  1.        ],\n",
       "       [-0.20515826,  1.        ],\n",
       "       [ 1.23029068,  1.        ],\n",
       "       [-0.85409574,  1.        ],\n",
       "       [ 1.76405235,  1.        ],\n",
       "       [ 0.4105985 ,  1.        ],\n",
       "       [-0.90729836,  1.        ],\n",
       "       [-1.42001794,  1.        ],\n",
       "       [ 0.46566244,  1.        ],\n",
       "       [ 0.90082649,  1.        ],\n",
       "       [ 1.13940068,  1.        ],\n",
       "       [ 0.40198936,  1.        ],\n",
       "       [ 0.3869025 ,  1.        ],\n",
       "       [-1.7262826 ,  1.        ],\n",
       "       [ 1.46935877,  1.        ],\n",
       "       [-0.18718385,  1.        ],\n",
       "       [-0.87079715,  1.        ],\n",
       "       [ 0.3024719 ,  1.        ],\n",
       "       [ 1.20237985,  1.        ],\n",
       "       [-1.98079647,  1.        ],\n",
       "       [-2.55298982,  1.        ],\n",
       "       [-1.45436567,  1.        ],\n",
       "       [-0.02818223,  1.        ],\n",
       "       [ 0.15494743,  1.        ],\n",
       "       [ 1.22244507,  1.        ],\n",
       "       [ 1.86755799,  1.        ],\n",
       "       [ 2.26975462,  1.        ],\n",
       "       [-0.74216502,  1.        ],\n",
       "       [ 0.06651722,  1.        ],\n",
       "       [ 1.49407907,  1.        ],\n",
       "       [-0.67246045,  1.        ],\n",
       "       [-1.63019835,  1.        ],\n",
       "       [ 0.12898291,  1.        ],\n",
       "       [ 0.95008842,  1.        ],\n",
       "       [ 1.48825219,  1.        ],\n",
       "       [ 0.05616534,  1.        ],\n",
       "       [ 0.8644362 ,  1.        ],\n",
       "       [ 0.70657317,  1.        ],\n",
       "       [-0.15135721,  1.        ],\n",
       "       [-1.07075262,  1.        ],\n",
       "       [-0.10321885,  1.        ],\n",
       "       [-0.30230275,  1.        ],\n",
       "       [-0.38732682,  1.        ],\n",
       "       [ 0.72909056,  1.        ],\n",
       "       [ 0.12167502,  1.        ],\n",
       "       [-0.50965218,  1.        ],\n",
       "       [-1.23482582,  1.        ],\n",
       "       [-0.21274028,  1.        ],\n",
       "       [-0.63432209,  1.        ],\n",
       "       [ 0.15634897,  1.        ],\n",
       "       [ 0.04575852,  1.        ],\n",
       "       [-1.16514984,  1.        ],\n",
       "       [-0.36274117,  1.        ],\n",
       "       [ 0.3563664 ,  1.        ],\n",
       "       [-1.61389785,  1.        ],\n",
       "       [-1.18063218,  1.        ]])"
      ]
     },
     "execution_count": 9,
     "metadata": {},
     "output_type": "execute_result"
    }
   ],
   "source": [
    "X"
   ]
  },
  {
   "cell_type": "markdown",
   "metadata": {
    "id": "ELVVPfMwYUMt"
   },
   "source": [
    "Finalement, création d'un vecteur parametre $\\theta$, initialisé avec des coefficients aléatoires. Ce vecteur est de dimension (2, 1). Si on désire toujours reproduire le meme vecteur $\\theta$, on utilise comme avant np.random.seed(0)."
   ]
  },
  {
   "cell_type": "code",
   "execution_count": null,
   "metadata": {
    "id": "5O6cydbYYUMu",
    "outputId": "5ddb55ae-5dd0-4fde-f8da-2f59532b6e3f"
   },
   "outputs": [
    {
     "data": {
      "text/plain": [
       "array([[1.76405235],\n",
       "       [0.40015721]])"
      ]
     },
     "execution_count": 35,
     "metadata": {},
     "output_type": "execute_result"
    }
   ],
   "source": [
    "np.random.seed(0) # pour produire toujours le meme vecteur theta aléatoire\n",
    "theta = np.random.randn(...,...)\n",
    "theta"
   ]
  },
  {
   "cell_type": "markdown",
   "metadata": {
    "id": "hqXSgxJSYUMv"
   },
   "source": [
    "# 2. Modele Linéaire\n",
    "On implémente un modele $F = X.\\theta$, puis on teste le modele pour voir s'il n'y a pas de bug (bonne pratique oblige). En plus, cela permet de voir a quoi ressemble le modele initial, défini par la valeur de $\\theta$"
   ]
  },
  {
   "cell_type": "code",
   "execution_count": null,
   "metadata": {
    "id": "XviwCs7KYUMv"
   },
   "outputs": [],
   "source": [
    "#The dot() method multiplies each value from one DataFrame with the values from another DataFrame (or Series or array), and adds them together\n",
    "def model(X, theta):\n",
    "    return ... .dot(...)"
   ]
  },
  {
   "cell_type": "code",
   "execution_count": null,
   "metadata": {
    "id": "jo51J-qeYUMw",
    "outputId": "e21ccdf7-2257-4dbe-998e-1a08702ad61a"
   },
   "outputs": [
    {
     "data": {
      "text/plain": [
       "[<matplotlib.lines.Line2D at 0x1d6ee5bf710>]"
      ]
     },
     "execution_count": 37,
     "metadata": {},
     "output_type": "execute_result"
    },
    {
     "data": {
      "image/png": "[encoded data removed]",
      "text/plain": [
       "<Figure size 432x288 with 1 Axes>"
      ]
     },
     "metadata": {
      "needs_background": "light"
     },
     "output_type": "display_data"
    }
   ],
   "source": [
    "plt.scatter(x, y)\n",
    "plt.plot(..., model(..., ...), c='r')"
   ]
  },
  {
   "cell_type": "markdown",
   "metadata": {
    "id": "Jhaoj5XnYUMw"
   },
   "source": [
    "# 3. Fonction Cout :  Erreur Quadratique moyenne\n",
    "On mesure les erreurs du modele sur le Dataset X, y en implémenterl'erreur quadratique moyenne,  **Mean Squared Error (MSE)** en anglais.\n",
    "\n",
    "$ J(\\theta) = \\frac{1}{2m} \\sum (X.\\theta - y)^2 $\n",
    "\n",
    "Ensuite, on teste notre fonction, pour voir s'il n'y a pas de bug"
   ]
  },
  {
   "cell_type": "code",
   "execution_count": null,
   "metadata": {
    "id": "QqGymwl-YUMx"
   },
   "outputs": [],
   "source": [
    "def cost_function(X, y, theta):\n",
    "    m = ...\n",
    "    return 1/(2*...) * np.sum((model(...,...) - ...)**2)"
   ]
  },
  {
   "cell_type": "code",
   "execution_count": null,
   "metadata": {
    "id": "m9CVseAwYUMx",
    "outputId": "49055f3a-4122-45f8-d192-7b02327046d2"
   },
   "outputs": [
    {
     "data": {
      "text/plain": [
       "905.6306841935502"
      ]
     },
     "execution_count": 39,
     "metadata": {},
     "output_type": "execute_result"
    }
   ],
   "source": [
    "cost_function(X, y, theta)"
   ]
  },
  {
   "cell_type": "markdown",
   "metadata": {
    "id": "ApJLwiAlYUMx"
   },
   "source": [
    "# 4. Gradients et Descente de Gradient\n",
    "On implémente la formule du gradient pour la **MSE**\n",
    "\n",
    "$\\frac{\\partial J(\\theta) }{\\partial \\theta} = \\frac{1}{m} X^T.(X.\\theta - y)$\n",
    "\n",
    "Ensuite on utilise cette fonction dans la descente de gradient:\n",
    "\n",
    "$\\theta = \\theta - \\alpha \\frac{\\partial J(\\theta) }{\\partial \\theta}$\n"
   ]
  },
  {
   "cell_type": "code",
   "execution_count": null,
   "metadata": {
    "id": "3QLmaPp_YUMy"
   },
   "outputs": [],
   "source": [
    "def grad(X, y, theta):\n",
    "    m = ...\n",
    "    return 1/... * X.T.dot(model(..., ...) - y)"
   ]
  },
  {
   "cell_type": "code",
   "execution_count": null,
   "metadata": {
    "id": "QvNSptlTYUMy"
   },
   "outputs": [],
   "source": [
    "def gradient_descent(X, y, theta, learning_rate, n_iterations):\n",
    "    \n",
    "    cost_history = np.zeros(n_iterations) # création d'un tableau de stockage pour enregistrer l'évolution du Cout du modele\n",
    "    \n",
    "    for i in range(0, n_iterations):\n",
    "        theta = theta - learning_rate * grad(..., ..., ...) # mise a jour du parametre theta (formule du gradient descent)\n",
    "        cost_history[i] = cost_function(..., ..., ...) # on enregistre la valeur du Cout au tour i dans cost_history[i]\n",
    "        \n",
    "    return theta, cost_history"
   ]
  },
  {
   "cell_type": "markdown",
   "metadata": {
    "id": "K19dRMhwYUMz"
   },
   "source": [
    "# 5. Phase d'entrainement\n",
    "On définit un **nombre d'itérations**, ainsi qu'un **pas d'apprentissage $\\alpha$**, et c'est partit !\n",
    "\n",
    "Une fois le modele entrainé, on observe les resultats par rapport a notre Dataset"
   ]
  },
  {
   "cell_type": "code",
   "execution_count": null,
   "metadata": {
    "id": "sgcyH6DsYUMz"
   },
   "outputs": [],
   "source": [
    "n_iterations = 1000\n",
    "learning_rate = 0.01\n",
    "\n",
    "\n",
    "theta_final, cost_history = gradient_descent(X, y, theta, learning_rate, n_iterations)"
   ]
  },
  {
   "cell_type": "code",
   "execution_count": null,
   "metadata": {
    "id": "zwdiBK5FYUM0",
    "outputId": "5a86e052-f2f2-4bac-e9a8-239f3a0bc5fa"
   },
   "outputs": [
    {
     "data": {
      "text/plain": [
       "array([[42.61765864],\n",
       "       [-0.81309274]])"
      ]
     },
     "execution_count": 47,
     "metadata": {},
     "output_type": "execute_result"
    }
   ],
   "source": [
    "theta_final # voici les parametres du modele une fois que la machine a été entrainée"
   ]
  },
  {
   "cell_type": "code",
   "execution_count": null,
   "metadata": {
    "id": "awzuvEbnYUM0",
    "outputId": "55d92722-8636-4478-daa7-dd0072c96cd9"
   },
   "outputs": [
    {
     "data": {
      "text/plain": [
       "[<matplotlib.lines.Line2D at 0x1d6eeb0d518>]"
      ]
     },
     "execution_count": 48,
     "metadata": {},
     "output_type": "execute_result"
    },
    {
     "data": {
      "image/png": "[encoded data removed]",
      "text/plain": [
       "<Figure size 432x288 with 1 Axes>"
      ]
     },
     "metadata": {
      "needs_background": "light"
     },
     "output_type": "display_data"
    }
   ],
   "source": [
    "# création d'un vecteur prédictions qui contient les prédictions de notre modele final\n",
    "predictions = model(X, ...)\n",
    "\n",
    "# Affiche les résultats de prédictions (en rouge) par rapport a notre Dataset (en bleu)\n",
    "plt.scatter(x, y)\n",
    "plt.plot(x, predictions, c='r')"
   ]
  },
  {
   "cell_type": "markdown",
   "metadata": {
    "id": "hdr6ecXZYUM1"
   },
   "source": [
    "# 6. Courbes d'apprentissage\n",
    "Pour vérifier si notre algorithme de Descente de gradient a bien fonctionné, on observe l'évolution de la fonction cout a travers les itérations. On est sensé obtenir une courbe qui diminue a chaque itération jusqu'a stagner a un niveau minimal (proche de zéro). Si la courbe ne suit pas ce motif, alors le pas **learning_rate** est peut-etre trop élevé, il faut prendre un pas plus faible."
   ]
  },
  {
   "cell_type": "code",
   "execution_count": null,
   "metadata": {
    "id": "9c9BcyjUYUM1",
    "outputId": "7458c81e-b32b-45d2-b9ca-632a8294f6cb"
   },
   "outputs": [
    {
     "data": {
      "text/plain": [
       "[<matplotlib.lines.Line2D at 0x1d6eeba3748>]"
      ]
     },
     "execution_count": 49,
     "metadata": {},
     "output_type": "execute_result"
    },
    {
     "data": {
      "image/png": "[encoded data removed]",
      "text/plain": [
       "<Figure size 432x288 with 1 Axes>"
      ]
     },
     "metadata": {
      "needs_background": "light"
     },
     "output_type": "display_data"
    }
   ],
   "source": [
    "plt.plot(range(n_iterations), cost_history)"
   ]
  },
  {
   "cell_type": "markdown",
   "metadata": {
    "id": "K7ACY-J1YUM1"
   },
   "source": [
    "# 7. Evaluation finale\n",
    "Pour évaluer la réelle performance de notre modele avec une métrique populaire (pour votre patron, client, ou vos collegues) on peut utiliser le **coefficient de détermination**, aussi connu sous le nom $R^2$. Il nous vient de la méthode des moindres carrés. Plus le résultat est proche de 1, meilleur est votre modele"
   ]
  },
  {
   "attachments": {
    "1__HbrAW-tMRBli6ASD5Bttw.png": {
     "image/png": "[encoded data removed]"
    }
   },
   "cell_type": "markdown",
   "metadata": {},
   "source": [
    "![1__HbrAW-tMRBli6ASD5Bttw.png](attachment:1__HbrAW-tMRBli6ASD5Bttw.png)"
   ]
  },
  {
   "cell_type": "code",
   "execution_count": null,
   "metadata": {
    "id": "U4y6Z4SPYUM1"
   },
   "outputs": [],
   "source": [
    "def coef_determination(y, pred):\n",
    "    u = ((y - pred)**2).sum()\n",
    "    v = ((y - y. ...())**2). ...()\n",
    "    return 1 - ... /..."
   ]
  },
  {
   "cell_type": "code",
   "execution_count": null,
   "metadata": {
    "id": "HKHbHtRGYUM2",
    "outputId": "ca9c5e90-4e7a-433b-958f-5f6961b18f2f"
   },
   "outputs": [
    {
     "data": {
      "text/plain": [
       "0.9417294706504984"
      ]
     },
     "execution_count": 51,
     "metadata": {},
     "output_type": "execute_result"
    }
   ],
   "source": [
    "coef_determination(y, predictions)"
   ]
  },
  {
   "cell_type": "markdown",
   "metadata": {
    "id": "Yr0UmMWAYUM2"
   },
   "source": [
    "# Linear Regression in Python with Scikit-Learn\n"
   ]
  },
  {
   "cell_type": "markdown",
   "metadata": {
    "id": "Yr0UmMWAYUM2"
   },
   "source": [
    "dataset: https://drive.google.com/file/d/1oakZCv7g3mlmCSdv9J8kdSaqO5_6dIOw/view?usp=drive_open"
   ]
  },
  {
   "cell_type": "code",
   "execution_count": null,
   "metadata": {
    "id": "Yr0UmMWAYUM2"
   },
   "outputs": [],
   "source": [
    "# Remplacez le contenu de path_to_file par le chemin de votre fichier student_scores.csv \n",
    "path_to_file = 'home/projects/datasets/student_scores.csv'\n",
    "df = pd.read_csv(...)"
   ]
  },
  {
   "cell_type": "code",
   "execution_count": null,
   "metadata": {
    "id": "Yr0UmMWAYUM2"
   },
   "outputs": [],
   "source": [
    "df.head() \n",
    "# Nous pouvons également vérifier la forme de notre dataset via la fonction shape\n",
    "df.shape"
   ]
  },
  {
   "cell_type": "markdown",
   "metadata": {
    "id": "Yr0UmMWAYUM2"
   },
   "source": [
    "Scatterplots constituent un excellent moyen d'explorer les relations entre les variables. Nous allons représenter les heures sur l'axe des X et les scores sur l'axe des Y, et pour chaque paire, un marqueur sera positionné en fonction de leurs valeurs."
   ]
  },
  {
   "cell_type": "code",
   "execution_count": null,
   "metadata": {},
   "outputs": [],
   "source": [
    "df.plot. ...(x='Hours', y='Scores', title='Scatterplot of hours and scores percentages');\n"
   ]
  },
  {
   "cell_type": "markdown",
   "metadata": {},
   "source": [
    "Plus les heures augmentent, plus les scores augmentent. Il y a une corrélation positive assez élevée ici ! Puisque la forme de la ligne que les points forment semble être droite, nous disons qu'il y a une corrélation linéaire positive entre les variables Heures et Notes. Quelle est leur corrélation ? La méthode corr() calcule et affiche les corrélations entre les variables numériques d'un DataFrame :\n"
   ]
  },
  {
   "cell_type": "code",
   "execution_count": null,
   "metadata": {},
   "outputs": [],
   "source": [
    "print(df. ...())"
   ]
  },
  {
   "cell_type": "code",
   "execution_count": null,
   "metadata": {},
   "outputs": [],
   "source": [
    "y = df['Scores'].values.reshape(-1, 1)\n",
    "X = df['Hours'].values.reshape(-1, 1)"
   ]
  },
  {
   "cell_type": "markdown",
   "metadata": {},
   "source": [
    "Cette méthode prend des échantillons au hasard en respectant le pourcentage que nous avons défini, mais en respectant les paires X-y, de peur que l'échantillonnage ne mélange totalement la relation. Les répartitions formation-test les plus courantes sont 80/20 et 70/30.\n"
   ]
  },
  {
   "cell_type": "code",
   "execution_count": null,
   "metadata": {},
   "outputs": [],
   "source": [
    "from sklearn.model_selection import train_test_split\n",
    "X_train, X_test, y_train, y_test = train_test_split(X, y, test_size = 0.2)"
   ]
  },
  {
   "cell_type": "markdown",
   "metadata": {},
   "source": [
    "# Training a Linear Regression Model\n"
   ]
  },
  {
   "cell_type": "markdown",
   "metadata": {},
   "source": [
    "Nous avons nos ensembles de formation et de test prêts. Scikit-Learn dispose d'une pléthore de types de modèles que nous pouvons facilement importer et former, la régression linéaire étant l'un d'entre eux :"
   ]
  },
  {
   "cell_type": "code",
   "execution_count": null,
   "metadata": {},
   "outputs": [],
   "source": [
    "from sklearn.linear_model import LinearRegression\n",
    "regressor = ...()\n"
   ]
  },
  {
   "cell_type": "markdown",
   "metadata": {},
   "source": [
    "Maintenant, nous devons ajuster la ligne à nos données, nous allons le faire en utilisant la méthode .fit() avec nos données X_train et y_train :\n"
   ]
  },
  {
   "cell_type": "code",
   "execution_count": null,
   "metadata": {},
   "outputs": [],
   "source": [
    "regressor.fit(X_train, y_train)\n"
   ]
  },
  {
   "cell_type": "markdown",
   "metadata": {},
   "source": [
    "Si aucune erreur n'est générée, le régresseur a trouvé la ligne la mieux adaptée ! La ligne est définie par nos caractéristiques et l'intercept/pente. En fait, nous pouvons inspecter l'intercept et la pente en imprimant les attributs regressor.intecept_ et regressor.coef_, respectivement :"
   ]
  },
  {
   "cell_type": "markdown",
   "metadata": {},
   "source": [
    "# Making Predictions\n"
   ]
  },
  {
   "cell_type": "code",
   "execution_count": null,
   "metadata": {},
   "outputs": [],
   "source": [
    "score = regressor.predict([[9.5]])\n",
    "print(...) # 94.80663482"
   ]
  },
  {
   "cell_type": "markdown",
   "metadata": {},
   "source": [
    "Pour faire des prédictions sur les données de test, nous passons les valeurs X_test à la méthode predict(). Nous pouvons affecter les résultats à la variable y_pred"
   ]
  },
  {
   "cell_type": "code",
   "execution_count": null,
   "metadata": {},
   "outputs": [],
   "source": [
    "y_pred = regressor.predict(...)\n"
   ]
  },
  {
   "cell_type": "markdown",
   "metadata": {},
   "source": [
    "# Evaluating the Model\n"
   ]
  },
  {
   "cell_type": "markdown",
   "metadata": {},
   "source": [
    "Mean Squared Error (MSE): Il élève au carré les valeurs absolues des erreurs. Plus elles sont petites, ou proches de 0, mieux c'est. La valeur MSE est élevée au carré de manière à rendre les erreurs importantes encore plus importantes. Une chose à laquelle il faut faire attention, c'est qu'il s'agit généralement d'une métrique difficile à interpréter en raison de la taille de ses valeurs et du fait qu'elles ne sont pas à la même échelle que les données."
   ]
  },
  {
   "cell_type": "code",
   "execution_count": null,
   "metadata": {},
   "outputs": [],
   "source": [
    "from sklearn.metrics import  mean_squared_error"
   ]
  },
  {
   "cell_type": "code",
   "execution_count": null,
   "metadata": {},
   "outputs": [],
   "source": [
    "mse = mean_squared_error(..., ...)"
   ]
  }
 ],
 "metadata": {
  "colab": {
   "collapsed_sections": [],
   "include_colab_link": true,
   "name": "Régression Linéaire Numpy.ipynb",
   "provenance": []
  },
  "kernelspec": {
   "display_name": "Python 3 (ipykernel)",
   "language": "python",
   "name": "python3"
  },
  "language_info": {
   "codemirror_mode": {
    "name": "ipython",
    "version": 3
   },
   "file_extension": ".py",
   "mimetype": "text/x-python",
   "name": "python",
   "nbconvert_exporter": "python",
   "pygments_lexer": "ipython3",
   "version": "3.10.4"
  }
 },
 "nbformat": 4,
 "nbformat_minor": 1
}
